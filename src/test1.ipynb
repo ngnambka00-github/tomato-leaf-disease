{
 "cells": [
  {
   "cell_type": "code",
   "execution_count": 1,
   "metadata": {},
   "outputs": [
    {
     "name": "stderr",
     "output_type": "stream",
     "text": [
      "/home/nguyennam/Documents/20212/Xử lý ảnh/Project_XLA_2/src/utils.py:24: UserWarning: \n",
      "The version_base parameter is not specified.\n",
      "Please specify a compatability version level, or None.\n",
      "Will assume defaults for version 1.1\n",
      "  with initialize(config_path=\"../config/\"):\n"
     ]
    }
   ],
   "source": [
    "from utils import * \n",
    "from feature_extraction import *\n",
    "\n",
    "import os\n",
    "import pandas as pd\n",
    "\n",
    "from hydra import initialize, compose\n",
    "from omegaconf import OmegaConf"
   ]
  },
  {
   "cell_type": "code",
   "execution_count": 2,
   "metadata": {},
   "outputs": [
    {
     "name": "stderr",
     "output_type": "stream",
     "text": [
      "/home/nguyennam/anaconda3/envs/XLA/lib/python3.7/site-packages/ipykernel_launcher.py:1: UserWarning: \n",
      "The version_base parameter is not specified.\n",
      "Please specify a compatability version level, or None.\n",
      "Will assume defaults for version 1.1\n",
      "  \"\"\"Entry point for launching an IPython kernel.\n"
     ]
    }
   ],
   "source": [
    "with initialize(config_path=\"../config/\"):\n",
    "    data_cfg = compose(config_name=\"data_path\")\n",
    "data_cfg = OmegaConf.create(data_cfg)"
   ]
  },
  {
   "cell_type": "code",
   "execution_count": 3,
   "metadata": {},
   "outputs": [],
   "source": [
    "HOME_PATH = \"../\"\n",
    "DATA_PATH = data_cfg.data.leaf_tomato_disease_path\n",
    "GLCM_EXPORT_PATH = data_cfg.data.glmc_feature_extraction_path\n",
    "HU_MOMENT_EXPORT_PATH = data_cfg.data.hu_moment_feature_extraction_path"
   ]
  },
  {
   "cell_type": "code",
   "execution_count": 4,
   "metadata": {},
   "outputs": [
    {
     "name": "stderr",
     "output_type": "stream",
     "text": [
      "Target_Spot: 100%|██████████| 1123/1123 [00:05<00:00, 187.88it/s]\n",
      "Tomato_mosaic_virus: 100%|██████████| 299/299 [00:01<00:00, 202.85it/s]\n",
      "Tomato_Yellow_Leaf_Curl_Virus: 100%|██████████| 4286/4286 [00:21<00:00, 198.20it/s]\n",
      "Spider_mites Two-spotted_spider_mite: 100%|██████████| 1341/1341 [00:07<00:00, 190.38it/s]\n",
      "Leaf_Mold: 100%|██████████| 761/761 [00:03<00:00, 193.91it/s]\n",
      "Late_blight: 100%|██████████| 1527/1527 [00:08<00:00, 188.32it/s]\n",
      "Early_blight: 100%|██████████| 800/800 [00:04<00:00, 183.48it/s]\n",
      "Septoria_leaf_spot: 100%|██████████| 1417/1417 [00:08<00:00, 166.92it/s]\n",
      "Healthy: 100%|██████████| 1273/1273 [00:07<00:00, 174.92it/s]\n",
      "Bacterial_spot: 100%|██████████| 1702/1702 [00:08<00:00, 194.06it/s]\n"
     ]
    }
   ],
   "source": [
    "data_path = os.path.join(HOME_PATH, DATA_PATH)\n",
    "glcm_export_path = os.path.join(HOME_PATH, GLCM_EXPORT_PATH)\n",
    "\n",
    "# columns_name = [\n",
    "#                 # \"hist_0\", \"hist_1\", \"hist_2\", \"hist_3\", \"hist_4\", \"hist_5\",\"hist_6\", \"hist_7\", \"hist_8\", \"hist_9\",\n",
    "#                 # \"hu_moment_h1\", \"hu_moment_h2\", \"hu_moment_h3\", \"hu_moment_h4\", \"hu_moment_h5\", \"hu_moment_h6\", \"hu_moment_h7\", \n",
    "#                 # \"glcm_entropy\", \"glcm_contract\", \"glcm_dissimilarity\", \"glcm_homogeneity\", \"glcm_energy\", \"glcm_correlation\", \"glcm_asm\", \n",
    "#                 \"label\"]\n",
    "\n",
    "columns_name = [\n",
    "                # \"hist_0\", \"hist_1\", \"hist_2\", \"hist_3\", \"hist_4\", \"hist_5\",\"hist_6\", \"hist_7\", \"hist_8\", \"hist_9\",\n",
    "                # \"hu_moment_h1\", \"hu_moment_h2\", \"hu_moment_h3\", \"hu_moment_h4\", \"hu_moment_h5\", \"hu_moment_h6\", \"hu_moment_h7\", \n",
    "                \"glcm_contract\", \"glcm_dissimilarity\", \"glcm_homogeneity\", \"glcm_energy\", \"glcm_correlation\", \"glcm_asm\", \n",
    "                \"label\"]\n",
    "\n",
    "# feature_extraction_methods = [hu_moments_feature, glcm_feature]\n",
    "feature_extraction_methods = [glcm_feature]\n",
    "\n",
    "df = export_feature_from_folder(data_path, columns_name, feature_extraction_methods, glcm_export_path)"
   ]
  },
  {
   "cell_type": "code",
   "execution_count": null,
   "metadata": {},
   "outputs": [],
   "source": [
    "data_path = os.path.join(HOME_PATH, DATA_PATH)\n",
    "hu_moment_export_path = os.path.join(HOME_PATH, HU_MOMENT_EXPORT_PATH)\n",
    "\n",
    "columns_name = [\n",
    "                \"hu_moment_h1\", \"hu_moment_h2\", \"hu_moment_h3\", \"hu_moment_h4\", \"hu_moment_h5\", \"hu_moment_h6\", \"hu_moment_h7\", \n",
    "                \"label\"]\n",
    "\n",
    "feature_extraction_methods = [hu_moments_feature]\n",
    "\n",
    "df = export_feature_from_folder(data_path, columns_name, feature_extraction_methods, hu_moment_export_path)"
   ]
  },
  {
   "cell_type": "code",
   "execution_count": 4,
   "metadata": {},
   "outputs": [],
   "source": [
    "glcm_export_path = os.path.join(HOME_PATH, GLCM_EXPORT_PATH)\n",
    "(X_train, y_train), (X_test, y_test) = split_data(glcm_export_path)"
   ]
  },
  {
   "cell_type": "code",
   "execution_count": 5,
   "metadata": {},
   "outputs": [
    {
     "data": {
      "text/plain": [
       "((2906, 6), (2906,))"
      ]
     },
     "execution_count": 5,
     "metadata": {},
     "output_type": "execute_result"
    }
   ],
   "source": [
    "X_test.shape, y_test.shape"
   ]
  },
  {
   "cell_type": "code",
   "execution_count": 6,
   "metadata": {},
   "outputs": [],
   "source": [
    "from sklearn.tree import DecisionTreeClassifier\n",
    "from sklearn.ensemble import RandomForestClassifier, AdaBoostClassifier, GradientBoostingClassifier\n",
    "from sklearn.neighbors import KNeighborsClassifier\n",
    "from sklearn.neural_network import MLPClassifier\n",
    "from sklearn.svm import SVC\n",
    "from xgboost import XGBClassifier\n",
    "from sklearn.naive_bayes import GaussianNB\n",
    "from sklearn.discriminant_analysis import QuadraticDiscriminantAnalysis\n",
    "\n",
    "\n",
    "classifiers = [\n",
    "    KNeighborsClassifier(n_neighbors=10),\n",
    "    DecisionTreeClassifier(random_state=42, max_depth=5),\n",
    "    RandomForestClassifier(n_estimators=100, max_depth=5),\n",
    "    SVC(kernel=\"linear\", C=0.025),\n",
    "    SVC(gamma=2, C=1),\n",
    "    SVC(kernel='rbf'),\n",
    "    MLPClassifier(alpha=1, max_iter=1000),\n",
    "    GaussianNB(),\n",
    "    QuadraticDiscriminantAnalysis(),\n",
    "    AdaBoostClassifier(),\n",
    "    GradientBoostingClassifier(n_estimators=100, learning_rate=1.0, max_depth=5),\n",
    "    XGBClassifier(random_state=42, n_estimators=100),\n",
    "]"
   ]
  },
  {
   "cell_type": "code",
   "execution_count": 7,
   "metadata": {},
   "outputs": [
    {
     "name": "stdout",
     "output_type": "stream",
     "text": [
      "TRAINING PROCESSING\n",
      "==============================\n",
      "KNeighborsClassifier\n",
      "******  Results  *******\n",
      "Accuracy: 0.4738 |             Precision: 0.4227 |             Recall: 0.4489 |             F1 Score: 0.4244\n",
      "\n"
     ]
    },
    {
     "name": "stderr",
     "output_type": "stream",
     "text": [
      "/home/nguyennam/anaconda3/envs/XLA/lib/python3.7/site-packages/sklearn/metrics/_classification.py:1318: UndefinedMetricWarning: Precision is ill-defined and being set to 0.0 in labels with no predicted samples. Use `zero_division` parameter to control this behavior.\n",
      "  _warn_prf(average, modifier, msg_start, len(result))\n"
     ]
    },
    {
     "name": "stdout",
     "output_type": "stream",
     "text": [
      "==============================\n",
      "DecisionTreeClassifier\n",
      "******  Results  *******\n",
      "Accuracy: 0.4202 |             Precision: 0.4440 |             Recall: 0.3939 |             F1 Score: 0.3581\n",
      "\n",
      "==============================\n",
      "RandomForestClassifier\n",
      "******  Results  *******\n",
      "Accuracy: 0.4491 |             Precision: 0.4157 |             Recall: 0.4409 |             F1 Score: 0.3796\n",
      "\n",
      "==============================\n",
      "SVC\n",
      "******  Results  *******\n",
      "Accuracy: 0.3899 |             Precision: 0.2973 |             Recall: 0.3561 |             F1 Score: 0.2806\n",
      "\n",
      "==============================\n",
      "SVC\n",
      "******  Results  *******\n",
      "Accuracy: 0.4993 |             Precision: 0.4560 |             Recall: 0.4928 |             F1 Score: 0.4486\n",
      "\n",
      "==============================\n",
      "SVC\n",
      "******  Results  *******\n",
      "Accuracy: 0.5100 |             Precision: 0.4673 |             Recall: 0.5098 |             F1 Score: 0.4645\n",
      "\n",
      "==============================\n",
      "MLPClassifier\n",
      "******  Results  *******\n",
      "Accuracy: 0.4281 |             Precision: 0.3437 |             Recall: 0.3845 |             F1 Score: 0.3331\n",
      "\n",
      "==============================\n",
      "GaussianNB\n",
      "******  Results  *******\n",
      "Accuracy: 0.3713 |             Precision: 0.3158 |             Recall: 0.3457 |             F1 Score: 0.2732\n",
      "\n",
      "==============================\n",
      "QuadraticDiscriminantAnalysis\n",
      "******  Results  *******\n",
      "Accuracy: 0.4763 |             Precision: 0.4424 |             Recall: 0.4737 |             F1 Score: 0.4068\n",
      "\n",
      "==============================\n",
      "AdaBoostClassifier\n",
      "******  Results  *******\n",
      "Accuracy: 0.3372 |             Precision: 0.3127 |             Recall: 0.3455 |             F1 Score: 0.2929\n",
      "\n",
      "==============================\n",
      "GradientBoostingClassifier\n",
      "******  Results  *******\n",
      "Accuracy: 0.1019 |             Precision: 0.1223 |             Recall: 0.1147 |             F1 Score: 0.0799\n",
      "\n",
      "==============================\n",
      "XGBClassifier\n",
      "******  Results  *******\n",
      "Accuracy: 0.4972 |             Precision: 0.4361 |             Recall: 0.4715 |             F1 Score: 0.4424\n",
      "\n",
      "==============================\n"
     ]
    }
   ],
   "source": [
    "_, _, best_model = train_test_model(classifiers, X_train, y_train, X_test, y_test)"
   ]
  },
  {
   "cell_type": "code",
   "execution_count": 8,
   "metadata": {},
   "outputs": [
    {
     "data": {
      "text/plain": [
       "XGBClassifier(base_score=0.5, booster='gbtree', callbacks=None,\n",
       "              colsample_bylevel=1, colsample_bynode=1, colsample_bytree=1,\n",
       "              early_stopping_rounds=None, enable_categorical=False,\n",
       "              eval_metric=None, gamma=0, gpu_id=-1, grow_policy='depthwise',\n",
       "              importance_type=None, interaction_constraints='',\n",
       "              learning_rate=0.300000012, max_bin=256, max_cat_to_onehot=4,\n",
       "              max_delta_step=0, max_depth=6, max_leaves=0, min_child_weight=1,\n",
       "              missing=nan, monotone_constraints='()', n_estimators=100,\n",
       "              n_jobs=0, num_parallel_tree=1, objective='multi:softprob',\n",
       "              predictor='auto', random_state=42, reg_alpha=0, ...)"
      ]
     },
     "execution_count": 8,
     "metadata": {},
     "output_type": "execute_result"
    }
   ],
   "source": [
    "best_model"
   ]
  },
  {
   "cell_type": "code",
   "execution_count": 7,
   "metadata": {},
   "outputs": [
    {
     "data": {
      "text/plain": [
       "(array([0., 1., 2., 3., 4., 5., 6., 7., 8., 9.]),\n",
       " array([231,  62, 832, 272, 174, 337, 171, 289, 240, 298]))"
      ]
     },
     "execution_count": 7,
     "metadata": {},
     "output_type": "execute_result"
    }
   ],
   "source": [
    "unique, counts = np.unique(y_test, return_counts=True)\n",
    "unique, counts"
   ]
  },
  {
   "cell_type": "code",
   "execution_count": null,
   "metadata": {},
   "outputs": [],
   "source": []
  }
 ],
 "metadata": {
  "kernelspec": {
   "display_name": "Python 3.7.13 ('XLA')",
   "language": "python",
   "name": "python3"
  },
  "language_info": {
   "codemirror_mode": {
    "name": "ipython",
    "version": 3
   },
   "file_extension": ".py",
   "mimetype": "text/x-python",
   "name": "python",
   "nbconvert_exporter": "python",
   "pygments_lexer": "ipython3",
   "version": "3.7.13"
  },
  "orig_nbformat": 4,
  "vscode": {
   "interpreter": {
    "hash": "e6d4cb9925faa5c5a77450eb0489c67deb0c7a4310402fb37692f61d5676a1f9"
   }
  }
 },
 "nbformat": 4,
 "nbformat_minor": 2
}
